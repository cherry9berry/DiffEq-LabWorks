{
  "cells": [
    {
      "cell_type": "code",
      "execution_count": null,
      "metadata": {},
      "outputs": [],
      "source": [
        "import numpy as np\n",
        "import matplotlib.pyplot as plt\n",
        "import pandas as pd\n",
        "from scipy.optimize import fsolve\n"
      ]
    },
    {
      "cell_type": "markdown",
      "metadata": {},
      "source": [
        "$$\n",
        "x^3 + \\varepsilon x - 1 = 0, \\quad \\varepsilon \\ll 1\n",
        "$$\n"
      ]
    },
    {
      "cell_type": "code",
      "execution_count": null,
      "metadata": {},
      "outputs": [],
      "source": [
        "eps = 0.01\n",
        "f = lambda x: x**3 + eps*x - 1\n",
        "df = lambda x: 3*x**2 + eps\n"
      ]
    },
    {
      "cell_type": "code",
      "execution_count": null,
      "metadata": {},
      "outputs": [],
      "source": [
        "def newton(f, df, *, x_0: float, eps=1e-4, max_iter=1000):\n",
        "    x_old, x_new = float('inf'), x_0\n",
        "\n",
        "    for _ in range(max_iter):\n",
        "        if abs(x_old - x_new) < eps:\n",
        "            return x_new\n",
        "        x_old = x_new\n",
        "        x_new -= f(x_new) / df(x_new)\n",
        "\n",
        "    return None\n"
      ]
    },
    {
      "cell_type": "code",
      "execution_count": null,
      "metadata": {},
      "outputs": [],
      "source": [
        "def bisect(f, *, x_0: float, x_1: float, eps=1e-4, max_iters=1000):\n",
        "    a, b = x_0, x_1\n",
        "\n",
        "    for _ in range(max_iters):\n",
        "        mid = (a + b) / 2\n",
        "        res = f(mid)\n",
        "        if abs(res) < eps:\n",
        "            return mid\n",
        "\n",
        "        if f(a) * res < 0:\n",
        "            b = mid\n",
        "        else:\n",
        "            a = mid\n",
        "\n",
        "    return None\n"
      ]
    },
    {
      "cell_type": "code",
      "execution_count": null,
      "metadata": {},
      "outputs": [],
      "source": [
        "# Аналитическое решение асимптотическим разложением\n",
        "# x = x_0 + ε*x_1 + ε²*x_2 + ε³*x_3 + ...\n",
        "# x_0 = 1, x_1 = -1/3, x_2 = 0, x_3 = -1/81\n",
        "\n",
        "x_anal_0 = 1\n",
        "x_anal_1 = 1 + eps * (-1/3)\n",
        "x_anal_2 = 1 + eps * (-1/3) + eps**2 * 0\n",
        "x_anal_3 = 1 + eps * (-1/3) + eps**2 * 0 + eps**3 * (-1/81)\n",
        "\n",
        "print(f\"Аналитические решения для ε = {eps}:\")\n",
        "print(f\"Порядок 0: x = {x_anal_0:.6f}\")\n",
        "print(f\"Порядок 1: x = {x_anal_1:.6f}\")\n",
        "print(f\"Порядок 2: x = {x_anal_2:.6f}\")\n",
        "print(f\"Порядок 3: x = {x_anal_3:.6f}\")\n"
      ]
    },
    {
      "cell_type": "code",
      "execution_count": null,
      "metadata": {},
      "outputs": [],
      "source": [
        "# Численные решения\n",
        "x_newton = newton(f, df, x_0=1.0)\n",
        "x_bisect = bisect(f, x_0=0.5, x_1=1.5)\n",
        "x_scipy = fsolve(f, 1.0)[0]\n",
        "\n",
        "print(f\"Численные решения для ε = {eps}:\")\n",
        "print(f\"Метод Ньютона: x = {x_newton:.6f}\")\n",
        "print(f\"Метод бисекции: x = {x_bisect:.6f}\")\n",
        "print(f\"SciPy fsolve: x = {x_scipy:.6f}\")\n"
      ]
    },
    {
      "cell_type": "code",
      "execution_count": null,
      "metadata": {},
      "outputs": [],
      "source": [
        "# Сравнение решений с помощью DataFrame\n",
        "data = {\n",
        "    'Метод': ['Аналитический (0)', 'Аналитический (1)', 'Аналитический (2)', 'Аналитический (3)',\n",
        "              'Ньютон', 'Бисекция', 'SciPy'],\n",
        "    'Значение x': [x_anal_0, x_anal_1, x_anal_2, x_anal_3, x_newton, x_bisect, x_scipy],\n",
        "    'Ошибка': [abs(x_anal_0 - x_scipy), abs(x_anal_1 - x_scipy), abs(x_anal_2 - x_scipy), \n",
        "               abs(x_anal_3 - x_scipy), abs(x_newton - x_scipy), abs(x_bisect - x_scipy), 0]\n",
        "}\n",
        "\n",
        "df = pd.DataFrame(data)\n",
        "print(\"Сравнение решений:\")\n",
        "print(df.round(8))\n"
      ]
    },
    {
      "cell_type": "code",
      "execution_count": null,
      "metadata": {},
      "outputs": [],
      "source": [
        "# Графическое сравнение\n",
        "X = np.linspace(0.95, 1.05, 1000)\n",
        "Y = [f(x) for x in X]\n",
        "\n",
        "plt.figure(figsize=(12, 5))\n",
        "\n",
        "# График функции\n",
        "plt.subplot(1, 2, 1)\n",
        "plt.plot(X, Y, 'b-', linewidth=2, label=f'$x^3 + {eps}x - 1$')\n",
        "plt.axhline(y=0, color='k', linestyle='--', alpha=0.5)\n",
        "plt.axvline(x=x_scipy, color='r', linestyle=':', alpha=0.7, label=f'Решение: {x_scipy:.6f}')\n",
        "plt.xlabel('x')\n",
        "plt.ylabel('f(x)')\n",
        "plt.title('График функции')\n",
        "plt.grid(True, alpha=0.3)\n",
        "plt.legend()\n",
        "\n",
        "# Сравнение решений\n",
        "plt.subplot(1, 2, 2)\n",
        "methods = df['Метод']\n",
        "values = df['Значение x']\n",
        "colors = ['red', 'orange', 'yellow', 'green', 'blue', 'purple', 'black']\n",
        "plt.bar(range(len(methods)), values, color=colors, alpha=0.7)\n",
        "plt.xticks(range(len(methods)), methods, rotation=45)\n",
        "plt.ylabel('Значение x')\n",
        "plt.title('Сравнение решений')\n",
        "plt.grid(True, alpha=0.3)\n",
        "\n",
        "plt.tight_layout()\n",
        "plt.show()\n"
      ]
    },
    {
      "cell_type": "code",
      "execution_count": null,
      "metadata": {},
      "outputs": [],
      "source": [
        "# Анализ точности для разных ε\n",
        "eps_values = [0.001, 0.01, 0.1, 0.2]\n",
        "results = []\n",
        "\n",
        "for eps_val in eps_values:\n",
        "    f_val = lambda x: x**3 + eps_val*x - 1\n",
        "    \n",
        "    # Аналитические решения\n",
        "    x_a0 = 1\n",
        "    x_a1 = 1 + eps_val * (-1/3)\n",
        "    x_a3 = 1 + eps_val * (-1/3) + eps_val**3 * (-1/81)\n",
        "    \n",
        "    # Численное решение\n",
        "    x_num = fsolve(f_val, 1.0)[0]\n",
        "    \n",
        "    results.append({\n",
        "        'ε': eps_val,\n",
        "        'Аналит(0)': x_a0,\n",
        "        'Аналит(1)': x_a1,\n",
        "        'Аналит(3)': x_a3,\n",
        "        'SciPy': x_num,\n",
        "        'Ошибка(0)': abs(x_a0 - x_num),\n",
        "        'Ошибка(1)': abs(x_a1 - x_num),\n",
        "        'Ошибка(3)': abs(x_a3 - x_num)\n",
        "    })\n",
        "\n",
        "df_eps = pd.DataFrame(results)\n",
        "print(\"Точность для разных значений ε:\")\n",
        "print(df_eps.round(8))\n"
      ]
    },
    {
      "cell_type": "markdown",
      "metadata": {},
      "source": [
        "\n"
      ]
    },
    {
      "cell_type": "code",
      "execution_count": null,
      "metadata": {},
      "outputs": [],
      "source": [
        "import numpy as np\n",
        "import matplotlib.pyplot as plt\n",
        "from scipy.optimize import fsolve\n"
      ]
    },
    {
      "cell_type": "markdown",
      "metadata": {},
      "source": [
        "## Аналитическое решение\n",
        "\n",
        "Ищем решение в виде $x = x_0 + \\varepsilon x_1 + \\varepsilon^2 x_2 + \\ldots$\n",
        "\n",
        "Подставляя в уравнение и собирая члены по степеням $\\varepsilon$:\n",
        "\n",
        "**Порядок $\\varepsilon^0$:** $x_0^3 - 1 = 0 \\;\\;\\Rightarrow\\;\\; x_0 = 1$\n",
        "\n",
        "**Порядок $\\varepsilon^1$:** $3x_0^2 x_1 + x_0 = 0 \\;\\;\\Rightarrow\\;\\; x_1 = -\\tfrac{1}{3}$\n",
        "\n",
        "**Порядок $\\varepsilon^2$:** $x_2 = 0$\n",
        "\n",
        "**Порядок $\\varepsilon^3$:** $x_3 = -\\tfrac{1}{81}$\n",
        "\n",
        "Таким образом: $x = 1 - \\tfrac{\\varepsilon}{3} - \\tfrac{\\varepsilon^3}{81} + O(\\varepsilon^4)$\n"
      ]
    },
    {
      "cell_type": "code",
      "execution_count": null,
      "metadata": {},
      "outputs": [],
      "source": [
        "eps = 0.01\n",
        "f = lambda x: x**3 + eps*x - 1\n",
        "df = lambda x: 3*x**2 + eps\n",
        "\n",
        "# Аналитическое решение\n",
        "x0 = 1.0\n",
        "x1 = -1/3\n",
        "x2 = 0.0\n",
        "x3 = -1/81\n",
        "\n",
        "x_anal_0 = x0\n",
        "x_anal_1 = x0 + eps * x1\n",
        "x_anal_2 = x0 + eps * x1 + eps**2 * x2\n",
        "x_anal_3 = x0 + eps * x1 + eps**2 * x2 + eps**3 * x3\n",
        "\n",
        "print(f\"Аналитические решения для ε = {eps}:\")\n",
        "print(f\"Порядок 0: x = {x_anal_0:.6f}\")\n",
        "print(f\"Порядок 1: x = {x_anal_1:.6f}\")\n",
        "print(f\"Порядок 2: x = {x_anal_2:.6f}\")\n",
        "print(f\"Порядок 3: x = {x_anal_3:.6f}\")\n"
      ]
    },
    {
      "cell_type": "markdown",
      "metadata": {},
      "source": [
        "## Численные методы\n"
      ]
    },
    {
      "cell_type": "code",
      "execution_count": null,
      "metadata": {},
      "outputs": [],
      "source": [
        "def newton(f, df, x0, eps=1e-10, max_iter=1000):\n",
        "    x = x0\n",
        "    for i in range(max_iter):\n",
        "        fx = f(x)\n",
        "        if abs(fx) < eps:\n",
        "            return x, i\n",
        "        dfx = df(x)\n",
        "        if abs(dfx) < 1e-15:\n",
        "            return None, i\n",
        "        x = x - fx / dfx\n",
        "    return None, max_iter\n",
        "\n",
        "def bisect(f, a, b, eps=1e-10, max_iter=1000):\n",
        "    if f(a) * f(b) > 0:\n",
        "        return None, 0\n",
        "    \n",
        "    for i in range(max_iter):\n",
        "        c = (a + b) / 2\n",
        "        if abs(b - a) < eps:\n",
        "            return c, i\n",
        "        \n",
        "        if f(a) * f(c) < 0:\n",
        "            b = c\n",
        "        else:\n",
        "            a = c\n",
        "    \n",
        "    return (a + b) / 2, max_iter\n"
      ]
    },
    {
      "cell_type": "code",
      "execution_count": null,
      "metadata": {},
      "outputs": [],
      "source": [
        "# Численные решения\n",
        "x_newton, iter_newton = newton(f, df, 1.0)\n",
        "x_bisect, iter_bisect = bisect(f, 0.5, 1.5)\n",
        "x_scipy = fsolve(f, 1.0)[0]\n",
        "\n",
        "print(f\"Численные решения для ε = {eps}:\")\n",
        "print(f\"Метод Ньютона: x = {x_newton:.6f} (итераций: {iter_newton})\")\n",
        "print(f\"Метод бисекции: x = {x_bisect:.6f} (итераций: {iter_bisect})\")\n",
        "print(f\"SciPy fsolve: x = {x_scipy:.6f}\")\n"
      ]
    },
    {
      "cell_type": "markdown",
      "metadata": {},
      "source": [
        "## Сравнение решений\n"
      ]
    },
    {
      "cell_type": "code",
      "execution_count": null,
      "metadata": {},
      "outputs": [],
      "source": [
        "# Таблица сравнения\n",
        "methods = ['Аналит(0)', 'Аналит(1)', 'Аналит(2)', 'Аналит(3)', 'Ньютон', 'Бисекция', 'SciPy']\n",
        "values = [x_anal_0, x_anal_1, x_anal_2, x_anal_3, x_newton, x_bisect, x_scipy]\n",
        "errors = [abs(x - x_scipy) for x in values[:-1]] + [0]\n",
        "\n",
        "print(\"Сравнение решений:\")\n",
        "for i, method in enumerate(methods):\n",
        "    print(f\"{method:12}: x = {values[i]:.8f}, ошибка = {errors[i]:.2e}\")\n"
      ]
    },
    {
      "cell_type": "code",
      "execution_count": null,
      "metadata": {},
      "outputs": [],
      "source": [
        "# График функции и решений\n",
        "x_plot = np.linspace(0.95, 1.05, 1000)\n",
        "y_plot = [f(x) for x in x_plot]\n",
        "\n",
        "plt.figure(figsize=(10, 6))\n",
        "\n",
        "# Подграфик 1: Функция\n",
        "plt.subplot(1, 2, 1)\n",
        "plt.plot(x_plot, y_plot, 'b-', linewidth=2, label=f'$x^3 + {eps}x - 1$')\n",
        "plt.axhline(y=0, color='k', linestyle='--', alpha=0.5)\n",
        "plt.axvline(x=x_scipy, color='r', linestyle=':', alpha=0.7, label=f'Решение: {x_scipy:.6f}')\n",
        "plt.xlabel('x')\n",
        "plt.ylabel('f(x)')\n",
        "plt.title('График функции')\n",
        "plt.grid(True, alpha=0.3)\n",
        "plt.legend()\n",
        "\n",
        "# Подграфик 2: Сравнение решений\n",
        "plt.subplot(1, 2, 2)\n",
        "colors = ['red', 'orange', 'yellow', 'green', 'blue', 'purple', 'black']\n",
        "plt.bar(range(len(methods)), values, color=colors, alpha=0.7)\n",
        "plt.xticks(range(len(methods)), methods, rotation=45)\n",
        "plt.ylabel('Значение x')\n",
        "plt.title('Сравнение решений')\n",
        "plt.grid(True, alpha=0.3)\n",
        "\n",
        "plt.tight_layout()\n",
        "plt.show()\n"
      ]
    },
    {
      "cell_type": "markdown",
      "metadata": {},
      "source": [
        "## Анализ точности для разных ε\n"
      ]
    },
    {
      "cell_type": "code",
      "execution_count": null,
      "metadata": {},
      "outputs": [],
      "source": [
        "# Исследуем точность для разных значений ε\n",
        "eps_values = [0.001, 0.01, 0.1, 0.2]\n",
        "print(\"Точность для разных значений ε:\")\n",
        "print(\"ε        Аналит(0)    Аналит(1)    Аналит(3)    SciPy       Ошибка(0)   Ошибка(1)   Ошибка(3)\")\n",
        "print(\"-\" * 80)\n",
        "\n",
        "for eps_val in eps_values:\n",
        "    # Аналитические решения\n",
        "    x_anal_0 = 1.0\n",
        "    x_anal_1 = 1.0 + eps_val * (-1/3)\n",
        "    x_anal_3 = 1.0 + eps_val * (-1/3) + eps_val**3 * (-1/81)\n",
        "    \n",
        "    # Численное решение\n",
        "    f_val = lambda x: x**3 + eps_val*x - 1\n",
        "    x_num = fsolve(f_val, 1.0)[0]\n",
        "    \n",
        "    error_0 = abs(x_anal_0 - x_num)\n",
        "    error_1 = abs(x_anal_1 - x_num)\n",
        "    error_3 = abs(x_anal_3 - x_num)\n",
        "    \n",
        "    print(f\"{eps_val:8.3f} {x_anal_0:11.6f} {x_anal_1:11.6f} {x_anal_3:11.6f} {x_num:11.6f} {error_0:11.2e} {error_1:11.2e} {error_3:11.2e}\")\n"
      ]
    },
    {
      "cell_type": "markdown",
      "metadata": {},
      "source": [
        "## Выводы\n",
        "\n",
        "1. **Асимптотическое разложение** дает хорошее приближение для малых ε\n",
        "2. **Сходимость ряда** улучшается с увеличением порядка разложения\n",
        "3. **Численные методы** дают точное решение\n",
        "4. **Точность асимптотического метода** быстро ухудшается при увеличении ε\n"
      ]
    },
    {
      "cell_type": "code",
      "execution_count": null,
      "metadata": {},
      "outputs": [],
      "source": [
        "# График функции и решений\n",
        "x_plot = np.linspace(0.95, 1.05, 1000)\n",
        "y_plot = [f(x) for x in x_plot]\n",
        "\n",
        "plt.figure(figsize=(12, 8))\n",
        "\n",
        "# Подграфик 1: Функция\n",
        "plt.subplot(2, 2, 1)\n",
        "plt.plot(x_plot, y_plot, 'b-', linewidth=2, label=f'$x^3 + {eps}x - 1$')\n",
        "plt.axhline(y=0, color='k', linestyle='--', alpha=0.5)\n",
        "plt.axvline(x=x_scipy, color='r', linestyle=':', alpha=0.7, label=f'Решение: {x_scipy:.6f}')\n",
        "plt.xlabel('x')\n",
        "plt.ylabel('f(x)')\n",
        "plt.title('График функции')\n",
        "plt.grid(True, alpha=0.3)\n",
        "plt.legend()\n",
        "\n",
        "# Подграфик 2: Сравнение решений\n",
        "plt.subplot(2, 2, 2)\n",
        "colors = ['red', 'orange', 'yellow', 'green', 'blue', 'purple', 'black']\n",
        "plt.bar(range(len(methods)), values, color=colors, alpha=0.7)\n",
        "plt.xticks(range(len(methods)), methods, rotation=45)\n",
        "plt.ylabel('Значение x')\n",
        "plt.title('Сравнение решений')\n",
        "plt.grid(True, alpha=0.3)\n",
        "\n",
        "# Подграфик 3: Ошибки\n",
        "plt.subplot(2, 2, 3)\n",
        "plt.bar(range(len(methods)), errors, color=colors, alpha=0.7)\n",
        "plt.xticks(range(len(methods)), methods, rotation=45)\n",
        "plt.ylabel('Абсолютная ошибка')\n",
        "plt.title('Ошибки относительно SciPy')\n",
        "plt.yscale('log')\n",
        "plt.grid(True, alpha=0.3)\n",
        "\n",
        "# Подграфик 4: Сходимость ряда\n",
        "plt.subplot(2, 2, 4)\n",
        "orders = [0, 1, 2, 3]\n",
        "anal_values = [x_anal_0, x_anal_1, x_anal_2, x_anal_3]\n",
        "plt.plot(orders, anal_values, 'ro-', linewidth=2, markersize=8, label='Асимптотический ряд')\n",
        "plt.axhline(y=x_scipy, color='k', linestyle='--', alpha=0.7, label=f'SciPy: {x_scipy:.6f}')\n",
        "plt.xlabel('Порядок разложения')\n",
        "plt.ylabel('Значение x')\n",
        "plt.title('Сходимость асимптотического ряда')\n",
        "plt.grid(True, alpha=0.3)\n",
        "plt.legend()\n",
        "\n",
        "plt.tight_layout()\n",
        "plt.show()\n"
      ]
    }
  ],
  "metadata": {
    "kernelspec": {
      "display_name": "Python 3",
      "language": "python",
      "name": "python3"
    },
    "language_info": {
      "name": "python",
      "version": "3.11.8"
    }
  },
  "nbformat": 4,
  "nbformat_minor": 2
}
