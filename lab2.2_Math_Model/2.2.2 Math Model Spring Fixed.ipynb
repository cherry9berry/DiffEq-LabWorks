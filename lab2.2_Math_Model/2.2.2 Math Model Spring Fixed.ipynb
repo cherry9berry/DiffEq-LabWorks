{
  "cells": [
    {
      "cell_type": "code",
      "execution_count": null,
      "metadata": {},
      "outputs": [],
      "source": [
        "import numpy as np\n",
        "import matplotlib.pyplot as plt\n",
        "from scipy.integrate import solve_ivp\n",
        "import pandas as pd\n",
        "\n",
        "# Параметры системы\n",
        "m = 1.0        # масса (кг)\n",
        "k = 10.0       # жесткость пружины (Н/м)\n",
        "alpha = 0.5    # коэффициент линейного сопротивления (Н·с/м)\n",
        "beta = 0.1     # коэффициент квадратичного сопротивления (Н·с²/м²)\n",
        "\n",
        "# Начальные условия\n",
        "x0 = 1.0       # начальное смещение (м)\n",
        "v0 = 0.0       # начальная скорость (м/с)\n",
        "\n",
        "# Производные параметры\n",
        "omega0 = np.sqrt(k/m)           # собственная частота\n",
        "gamma = alpha/(2*m)              # коэффициент затухания\n",
        "omega_d = np.sqrt(omega0**2 - gamma**2) if gamma < omega0 else 0  # частота затухающих колебаний\n",
        "\n",
        "# Временной интервал\n",
        "t_max = 20.0\n",
        "t_span = (0, t_max)\n",
        "t_eval = np.linspace(0, t_max, 1000)  # ВАЖНО: определяем t_eval здесь!\n"
      ]
    },
    {
      "cell_type": "code",
      "execution_count": null,
      "metadata": {},
      "outputs": [],
      "source": [
        "# Без сопротивления\n",
        "def system_no_damping(t, state):\n",
        "    x, v = state\n",
        "    dxdt = v\n",
        "    dvdt = -(k/m) * x\n",
        "    return [dxdt, dvdt]\n",
        "\n",
        "solution_no_damping = solve_ivp(\n",
        "    system_no_damping,\n",
        "    t_span,\n",
        "    [x0, v0],\n",
        "    method='RK45',\n",
        "    dense_output=True,\n",
        "    rtol=1e-10\n",
        ")\n",
        "\n",
        "x_num_no_damping = solution_no_damping.sol(t_eval)[0]\n",
        "v_num_no_damping = solution_no_damping.sol(t_eval)[1]\n"
      ]
    },
    {
      "cell_type": "markdown",
      "metadata": {},
      "source": [
        "$$\\begin{cases}\n",
        "\\frac{dx}{dt} = v \\\\\n",
        "\\frac{dv}{dt} = -\\frac{k}{m}x\n",
        "\\end{cases}$$\n"
      ]
    },
    {
      "cell_type": "code",
      "execution_count": null,
      "metadata": {},
      "outputs": [],
      "source": [
        "# С линейным сопротивлением\n",
        "def system_linear_damping(t, state):\n",
        "    x, v = state\n",
        "    dxdt = v\n",
        "    dvdt = -(k/m) * x - (alpha/m) * v\n",
        "    return [dxdt, dvdt]\n",
        "\n",
        "solution_linear = solve_ivp(\n",
        "    system_linear_damping,\n",
        "    t_span,\n",
        "    [x0, v0],\n",
        "    method='RK45',\n",
        "    dense_output=True,\n",
        "    rtol=1e-10\n",
        ")\n",
        "\n",
        "x_num_linear = solution_linear.sol(t_eval)[0]\n",
        "v_num_linear = solution_linear.sol(t_eval)[1]\n"
      ]
    },
    {
      "cell_type": "markdown",
      "metadata": {},
      "source": [
        "$$\\begin{cases}\n",
        "\\frac{dx}{dt} = v \\\\\n",
        "\\frac{dv}{dt} = -\\frac{k}{m}x - \\frac{\\alpha}{m}v\n",
        "\\end{cases}$$\n"
      ]
    },
    {
      "cell_type": "code",
      "execution_count": null,
      "metadata": {},
      "outputs": [],
      "source": [
        "# Аналитические решения\n",
        "# Без затухания\n",
        "A = x0  # амплитуда (при v0=0)\n",
        "phi = 0  # начальная фаза (при v0=0)\n",
        "\n",
        "x_analytical_no_damping = A * np.cos(omega0 * t_eval + phi)\n",
        "v_analytical_no_damping = -A * omega0 * np.sin(omega0 * t_eval + phi)\n",
        "\n",
        "# С линейным затуханием (для слабого затухания)\n",
        "if gamma < omega0:\n",
        "    x_analytical_linear = np.exp(-gamma * t_eval) * (\n",
        "        x0 * np.cos(omega_d * t_eval) + \n",
        "        ((v0 + gamma * x0) / omega_d) * np.sin(omega_d * t_eval)\n",
        "    )\n",
        "    v_analytical_linear = np.exp(-gamma * t_eval) * (\n",
        "        -(x0 * omega_d + (v0 + gamma * x0) * gamma / omega_d) * np.sin(omega_d * t_eval) +\n",
        "        (v0 + gamma * x0 - gamma * x0) * np.cos(omega_d * t_eval)\n",
        "    ) - gamma * x_analytical_linear\n",
        "elif gamma > omega0:\n",
        "    # Сильное затухание\n",
        "    lambda1 = -gamma + np.sqrt(gamma**2 - omega0**2)\n",
        "    lambda2 = -gamma - np.sqrt(gamma**2 - omega0**2)\n",
        "    A = (v0 - lambda2 * x0) / (lambda1 - lambda2)\n",
        "    B = (lambda1 * x0 - v0) / (lambda1 - lambda2)\n",
        "    x_analytical_linear = A * np.exp(lambda1 * t_eval) + B * np.exp(lambda2 * t_eval)\n",
        "    v_analytical_linear = A * lambda1 * np.exp(lambda1 * t_eval) + B * lambda2 * np.exp(lambda2 * t_eval)\n",
        "else:\n",
        "    # Критическое затухание\n",
        "    x_analytical_linear = np.exp(-gamma * t_eval) * (x0 + (v0 + gamma * x0) * t_eval)\n",
        "    v_analytical_linear = np.exp(-gamma * t_eval) * (v0 - gamma * (v0 + gamma * x0) * t_eval)\n"
      ]
    },
    {
      "cell_type": "markdown",
      "metadata": {},
      "source": [
        "$$\\begin{cases}\n",
        "x(t) = A\\cos(\\omega_0 t + \\phi) \\\\\n",
        "v(t) = -A\\omega_0\\sin(\\omega_0 t + \\phi)\n",
        "\\end{cases}$$\n",
        "\n",
        "$$\\begin{cases}\n",
        "x(t) = e^{-\\gamma t}(A\\cos(\\omega_d t) + B\\sin(\\omega_d t)) \\\\\n",
        "v(t) = e^{-\\gamma t}(-A\\omega_d\\sin(\\omega_d t) + B\\omega_d\\cos(\\omega_d t)) - \\gamma x(t)\n",
        "\\end{cases}$$\n"
      ]
    },
    {
      "cell_type": "code",
      "execution_count": null,
      "metadata": {},
      "outputs": [],
      "source": [
        "plt.figure(figsize=(12, 8))\n",
        "plt.plot(t_eval, x_num_no_damping, 'b-', linewidth=2, label='Без демпфирования (численное)')\n",
        "plt.plot(t_eval, x_analytical_no_damping, 'b--', linewidth=2, label='Без демпфирования (аналитическое)')\n",
        "plt.plot(t_eval, x_num_linear, 'r-', linewidth=2, label='С демпфированием (численное)')\n",
        "plt.plot(t_eval, x_analytical_linear, 'r--', linewidth=2, label='С демпфированием (аналитическое)')\n",
        "plt.xlabel('Время t, с')\n",
        "plt.ylabel('Координата x, м')\n",
        "plt.title('Сравнение численных и аналитических решений')\n",
        "plt.legend()\n",
        "plt.grid(True, alpha=0.3)\n",
        "plt.show()\n",
        "\n",
        "results = pd.DataFrame({\n",
        "    '': ['Без демпфирования (численное)', 'Без демпфирования (аналитическое)', \n",
        "         'С демпфированием (численное)', 'С демпфированием (аналитическое)'],\n",
        "    'Макс. смещение (м)': [\n",
        "        f\"{np.max(np.abs(x_num_no_damping)):.1f}\",\n",
        "        f\"{np.max(np.abs(x_analytical_no_damping)):.1f}\",\n",
        "        f\"{np.max(np.abs(x_num_linear)):.1f}\",\n",
        "        f\"{np.max(np.abs(x_analytical_linear)):.1f}\"\n",
        "    ],\n",
        "    'Период (с)': [\n",
        "        f\"{2*np.pi/omega0:.6f}\",\n",
        "        f\"{2*np.pi/omega0:.6f}\",\n",
        "        f\"{2*np.pi/omega_d:.6f}\" if gamma < omega0 else \"N/A\",\n",
        "        f\"{2*np.pi/omega_d:.6f}\" if gamma < omega0 else \"N/A\"\n",
        "    ],\n",
        "    'Амплитуда (м)': [\n",
        "        f\"{np.max(np.abs(x_num_no_damping)):.1f}\",\n",
        "        f\"{np.max(np.abs(x_analytical_no_damping)):.1f}\",\n",
        "        f\"{np.max(np.abs(x_num_linear)):.1f}\",\n",
        "        f\"{np.max(np.abs(x_analytical_linear)):.1f}\"\n",
        "    ]\n",
        "})\n",
        "\n",
        "results\n"
      ]
    },
    {
      "cell_type": "code",
      "execution_count": null,
      "metadata": {},
      "outputs": [],
      "source": []
    },
    {
      "cell_type": "markdown",
      "metadata": {},
      "source": []
    },
    {
      "cell_type": "markdown",
      "metadata": {},
      "source": []
    },
    {
      "cell_type": "markdown",
      "metadata": {},
      "source": [
        " и н"
      ]
    },
    {
      "cell_type": "code",
      "execution_count": null,
      "metadata": {},
      "outputs": [],
      "source": [
        "import numpy as np\n",
        "import matplotlib.pyplot as plt\n",
        "from scipy.integrate import solve_ivp\n",
        "import pandas as pd\n",
        "\n",
        "# ==========================================\n",
        "# ПАРАМЕТРЫ СИСТЕМЫ\n",
        "# ==========================================\n",
        "m = 1.0        # масса (кг)\n",
        "k = 10.0       # жесткость пружины (Н/м)\n",
        "alpha = 0.5    # коэффициент линейного сопротивления (Н·с/м)\n",
        "beta = 0.1     # коэффициент квадратичного сопротивления (Н·с²/м²)\n",
        "\n",
        "# Начальные условия\n",
        "x0 = 1.0       # начальное смещение (м)\n",
        "v0 = 0.0       # начальная скорость (м/с)\n",
        "\n",
        "# Временной интервал\n",
        "t_max = 20.0\n",
        "t_span = (0, t_max)\n",
        "t_eval = np.linspace(0, t_max, 1000)  # ВАЖНО: определяем t_eval здесь!\n",
        "\n",
        "# Производные параметры\n",
        "omega0 = np.sqrt(k/m)           # собственная частота\n",
        "gamma = alpha/(2*m)              # коэффициент затухания\n",
        "omega_d = np.sqrt(omega0**2 - gamma**2) if gamma < omega0 else 0  # частота затухающих колебаний\n",
        "\n",
        "print(f\"Параметры системы:\")\n",
        "print(f\"ω₀ = {omega0:.3f} рад/с (собственная частота)\")\n",
        "print(f\"T₀ = {2*np.pi/omega0:.3f} с (период собственных колебаний)\")\n",
        "print(f\"γ = {gamma:.3f} 1/с (коэффициент затухания)\")\n",
        "if gamma < omega0:\n",
        "    print(f\"ω_d = {omega_d:.3f} рад/с (частота затухающих колебаний)\")\n",
        "    print(f\"T_d = {2*np.pi/omega_d:.3f} с (период затухающих колебаний)\")\n",
        "    print(\"Режим: слабое затухание (колебательный)\")\n",
        "elif gamma > omega0:\n",
        "    print(\"Режим: сильное затухание (апериодический)\")\n",
        "else:\n",
        "    print(\"Режим: критическое затухание\")\n"
      ]
    },
    {
      "cell_type": "code",
      "execution_count": null,
      "metadata": {},
      "outputs": [],
      "source": [
        "\n"
      ]
    },
    {
      "cell_type": "code",
      "execution_count": null,
      "metadata": {},
      "outputs": [],
      "source": [
        "\n"
      ]
    },
    {
      "cell_type": "code",
      "execution_count": null,
      "metadata": {},
      "outputs": [],
      "source": [
        "\n"
      ]
    },
    {
      "cell_type": "code",
      "execution_count": null,
      "metadata": {},
      "outputs": [],
      "source": [
        "\n"
      ]
    },
    {
      "cell_type": "code",
      "execution_count": null,
      "metadata": {},
      "outputs": [],
      "source": [
        "\n"
      ]
    }
  ],
  "metadata": {
    "language_info": {
      "name": "python"
    }
  },
  "nbformat": 4,
  "nbformat_minor": 2
}
